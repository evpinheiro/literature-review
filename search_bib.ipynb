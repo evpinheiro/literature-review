{
 "cells": [
  {
   "cell_type": "code",
   "execution_count": 1,
   "metadata": {},
   "outputs": [],
   "source": [
    "import scholarly as sch\n",
    "import pandas as pd\n",
    "import bibtexparser\n",
    "import scholar"
   ]
  },
  {
   "cell_type": "code",
   "execution_count": 3,
   "metadata": {},
   "outputs": [],
   "source": [
    "with open('documents.bib') as bibtex_file:\n",
    "    bib_database = bibtexparser.load(bibtex_file)"
   ]
  },
  {
   "cell_type": "code",
   "execution_count": 4,
   "metadata": {
    "collapsed": true,
    "jupyter": {
     "outputs_hidden": true
    }
   },
   "outputs": [
    {
     "name": "stdout",
     "output_type": "stream",
     "text": [
      "Public transport vehicle scheduling featuring multiple vehicle types\n",
      "--------------------\n",
      "Vehicle Scheduling of an Urban Bus Line via an Improved Multiobjective Genetic Algorithm\n",
      "--------------------\n",
      "A branch-and-cut algorithm for the multiple depot vehicle scheduling problem\n",
      "--------------------\n",
      "Solving a Large-Scale Multi-Depot Vehicle Scheduling Problem in Urban Bus Systems\n",
      "--------------------\n",
      "A new formulation and a column generation-based heuristic for the multiple depot vehicle scheduling problem\n",
      "--------------------\n",
      "A benchmark dataset for the multiple depot vehicle scheduling problem\n",
      "--------------------\n",
      "Solving large multiple-depot multiple-vehicle-type bus scheduling problems in practice\n",
      "--------------------\n",
      "Exploiting the Timetabling Flexibility in the Context of the Vehicle Scheduling Problem With Heterogeneous Fleet\n",
      "--------------------\n",
      "An exact algorithm for multiple depot bus scheduling\n",
      "--------------------\n",
      "Multiple depot vehicle scheduling with controlled trip shifting\n",
      "--------------------\n",
      "Column generation based heuristic framework for the multiple-depot vehicle type scheduling problem\n",
      "--------------------\n",
      "A branch and cut algorithm for the multiple depot vehicle scheduling problem\n",
      "--------------------\n",
      "A time-space network based exact optimization model for multi-depot bus scheduling\n",
      "--------------------\n",
      "Uma nova implementa{\\c{c}}{\\~{a}}o para o problema de escalonamento de ve{\\'{i}}culos com m{\\'{u}}ltiplas garagens usando gera{\\c{c}}{\\~{a}}o de colunas\n",
      "--------------------\n",
      "An overview on vehicle scheduling models\n",
      "--------------------\n",
      "Vehicle scheduling based on variable trip times with expected on-time performance\n",
      "--------------------\n",
      "Vehicle Scheduling in Public Transit and Lagrangean Pricing\n",
      "--------------------\n",
      "Line Change Considerations Within a Time-Space Network Based Multi{\\_}Depot Bus Scheduling Model\n",
      "--------------------\n",
      "Stabilized column generation for highly degenerate multiple-depot vehicle scheduling problems\n",
      "--------------------\n",
      "A new solution model for multi-depot multi-vehicle-type vehicle scheduling in (sub)urban public transport\n",
      "--------------------\n",
      "A dynamic approach to vehicle scheduling\n",
      "--------------------\n",
      "Exact Algorithms for the Multi-Depot Vehicle Scheduling Problem Based on Multicommodity Network Flow Type Formulations\n",
      "--------------------\n",
      "Vehicle Scheduling for Public Mass Transit - An Overview\n",
      "--------------------\n",
      "Solving Large-Scale Multiple-Depot Vehicle Scheduling Problems\n",
      "--------------------\n",
      "Resolu{\\c{c}}{\\~{a}}o integrada de problemas do planejamento do transporte p{\\'{u}}blico: foco na tabela de hor{\\'{a}}rios e no escalonamento de ve{\\'{i}}culos com frota hegerog{\\^{e}}nea\n",
      "--------------------\n",
      "A Column Generation Approach to the Multiple-Depot Vehicle Scheduling Problem\n",
      "--------------------\n",
      "A new algorithm for the quasi-assigment problem\n",
      "--------------------\n",
      "Public-transit vehicle schedules using a minimum crew-cost approach\n",
      "--------------------\n",
      "On some matching problems arising in vehicle scheduling models\n",
      "--------------------\n"
     ]
    }
   ],
   "source": [
    "paper = bib_database.entries_dict\n",
    "for i in paper.items():\n",
    "    print(i[1]['title'][1:len(i[1]['title'])-1])\n",
    "    print(\"--------------------\")"
   ]
  },
  {
   "cell_type": "code",
   "execution_count": 5,
   "metadata": {},
   "outputs": [
    {
     "data": {
      "text/html": [
       "<div>\n",
       "<style scoped>\n",
       "    .dataframe tbody tr th:only-of-type {\n",
       "        vertical-align: middle;\n",
       "    }\n",
       "\n",
       "    .dataframe tbody tr th {\n",
       "        vertical-align: top;\n",
       "    }\n",
       "\n",
       "    .dataframe thead th {\n",
       "        text-align: right;\n",
       "    }\n",
       "</style>\n",
       "<table border=\"1\" class=\"dataframe\">\n",
       "  <thead>\n",
       "    <tr style=\"text-align: right;\">\n",
       "      <th></th>\n",
       "      <th>title</th>\n",
       "      <th>abstract</th>\n",
       "      <th>#citation</th>\n",
       "    </tr>\n",
       "  </thead>\n",
       "  <tbody>\n",
       "  </tbody>\n",
       "</table>\n",
       "</div>"
      ],
      "text/plain": [
       "Empty DataFrame\n",
       "Columns: [title, abstract, #citation]\n",
       "Index: []"
      ]
     },
     "execution_count": 5,
     "metadata": {},
     "output_type": "execute_result"
    }
   ],
   "source": [
    "rows = []\n",
    "papers = bib_database.entries_dict\n",
    "for paper in papers.items():\n",
    "    vsp = sch.search_pubs_query(paper[1]['title'][1:len(paper[1]['title'])-1])\n",
    "    for p in vsp:\n",
    "        # papers.append(p)\n",
    "        rows.append((p.bib['title'], p.bib['abstract'], p.citedby))\n",
    "        break\n",
    "    break\n",
    "df = pd.DataFrame(rows, columns=['title', 'abstract', '#citation'])\n",
    "df"
   ]
  },
  {
   "cell_type": "markdown",
   "metadata": {},
   "source": [
    " "
   ]
  },
  {
   "cell_type": "markdown",
   "metadata": {},
   "source": [
    "TITLE-ABS-KEY ( \"vehicle scheduling\"  AND  \"bus\" )"
   ]
  },
  {
   "cell_type": "markdown",
   "metadata": {},
   "source": [
    " "
   ]
  },
  {
   "cell_type": "markdown",
   "metadata": {},
   "source": [
    "https://www.ncbi.nlm.nih.gov/books/NBK481583/"
   ]
  },
  {
   "cell_type": "markdown",
   "metadata": {},
   "source": [
    " "
   ]
  }
 ],
 "metadata": {
  "kernelspec": {
   "display_name": ".venv",
   "language": "python",
   "name": ".venv"
  },
  "language_info": {
   "codemirror_mode": {
    "name": "ipython",
    "version": 3
   },
   "file_extension": ".py",
   "mimetype": "text/x-python",
   "name": "python",
   "nbconvert_exporter": "python",
   "pygments_lexer": "ipython3",
   "version": "3.7.4"
  }
 },
 "nbformat": 4,
 "nbformat_minor": 4
}
